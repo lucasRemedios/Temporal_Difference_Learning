{
 "cells": [
  {
   "cell_type": "markdown",
   "metadata": {},
   "source": [
    "### Imports"
   ]
  },
  {
   "cell_type": "code",
   "execution_count": 1,
   "metadata": {},
   "outputs": [],
   "source": [
    "import sys\n",
    "sys.path.insert(0, './utilities')\n",
    "from v_nn_utilities import TD_Delta, Policy, vals_at_states, hrr, random, copy, np\n",
    "import matplotlib.pyplot as plt"
   ]
  },
  {
   "cell_type": "markdown",
   "metadata": {},
   "source": [
    "### Hyperparameters"
   ]
  },
  {
   "cell_type": "code",
   "execution_count": 2,
   "metadata": {},
   "outputs": [],
   "source": [
    "#Constants\n",
    "ALPHA = 1    #learning rate\n",
    "GAMMA = 0.5    #discount\n",
    "\n",
    "num_states = 51\n",
    "goal_index = (num_states//2) +1\n",
    "num_episodes = 1000\n",
    "\n",
    "#User-entered variables\n",
    "#num_states = int(input(\"Enter the number of states in the maze: \"))\n",
    "#goal_index = int(input(\"Enter the index of the goal state: \")) \n",
    "#num_episodes = int(input(\"Enter the number of episodes: \"))\n",
    "\n"
   ]
  },
  {
   "cell_type": "markdown",
   "metadata": {},
   "source": [
    "### Setup"
   ]
  },
  {
   "cell_type": "code",
   "execution_count": 3,
   "metadata": {},
   "outputs": [],
   "source": [
    "#States\n",
    "# make num_states dimensional list of hrrs, where each hrr has 10 * num_states elements \n",
    "states = hrr.hrrs(10*num_states, num_states, True) #normalized is unitary better for convergence\n",
    "\n",
    "#Rewards and Weights\n",
    "r = [0 for x in range(num_states)] #rewards\n",
    "r[goal_index] = 1 #init val at index of goal state to be 1\n",
    "weights = hrr.hrr(10*num_states, True)\n",
    "\n",
    "#Possible starting positions\n",
    "pos_indices = [x for x in range(num_states)]"
   ]
  },
  {
   "cell_type": "markdown",
   "metadata": {},
   "source": [
    "### Main"
   ]
  },
  {
   "cell_type": "code",
   "execution_count": 4,
   "metadata": {},
   "outputs": [],
   "source": [
    "\n",
    "for episode_number in range(num_episodes):\n",
    "\tgoal_state = False\n",
    "\tpos = random.choice(pos_indices) #starting pos\n",
    "\n",
    "\t#update weights with nn that approximates v(s)\n",
    "#\twhile not goal_state:\t\n",
    "\n",
    "\tfor i in range(100):\n",
    "\t\tnext_pos = Policy(pos, weights, num_states, states)\t\n",
    "\t\tweights, goal_state = TD_Delta( weights, r[pos], pos, goal_state, next_pos, states, GAMMA, ALPHA, goal_index )\n",
    "\n",
    "\t\tif goal_state:\n",
    "\t\t\tbreak\n",
    "\n",
    "\t\tpos = next_pos\n"
   ]
  },
  {
   "cell_type": "markdown",
   "metadata": {},
   "source": [
    "### Output"
   ]
  },
  {
   "cell_type": "code",
   "execution_count": 10,
   "metadata": {},
   "outputs": [
    {
     "name": "stdout",
     "output_type": "stream",
     "text": [
      "[2.4353091321316356e-08, 2.891908668090082e-08, 5.33961626025814e-08, 1.217286680343932e-07, 2.3815352367950737e-07, 4.773974705551964e-07, 9.538453522583978e-07, 1.9078134327887852e-06, 3.8144452199073697e-06, 7.629502127626253e-06, 1.5258978702470394e-05, 3.051783235163974e-05, 6.103483657149411e-05, 0.0001220698778767737, 0.0002441408492558361, 0.0004882819507902036, 0.0009765623243835897, 0.001953125435428249, 0.0039062495495302274, 0.00781250003160916, 0.015625000490783192, 0.031249999480738144, 0.06250000010702172, 0.12499999975302933, 0.25000000039801606, 0.4999999998283424, 1.0, 0.49999999993641864, 0.25000000001225, 0.12499999963583841, 0.06249999938778528, 0.03124999989943622, 0.015624999611429491, 0.007812499822659191, 0.003906249645468818, 0.0019531248354771602, 0.0009765619083359489, 0.0004882809200398297, 0.00024414087382496064, 0.00012207029845123785, 6.1035128834929786e-05, 3.0516990778495234e-05, 1.5258716829946728e-05, 7.629358039884515e-06, 3.8141820588588615e-06, 1.9077905404341067e-06, 9.545890826689885e-07, 4.777227315955201e-07, 2.404079679774185e-07, 1.2029489049325548e-07, 6.843820776758491e-08]\n"
     ]
    },
    {
     "data": {
      "image/png": "[encoded data removed]",
      "text/plain": [
       "<matplotlib.figure.Figure at 0x1133fcc18>"
      ]
     },
     "metadata": {},
     "output_type": "display_data"
    }
   ],
   "source": [
    "values = vals_at_states(weights, states)\n",
    "print(values)\n",
    "\n",
    "plt.xlabel(\"State\")\n",
    "plt.ylabel(\"Value\")\n",
    "plt.title(\"Values For Each State Computed By Neural Net\")\n",
    "\n",
    "plt.plot(list(range(51)), values, 'ro')\n",
    "\n",
    "plt.axis([0, num_states-1, 0, 1])\n",
    "plt.grid(True)\n",
    "\n",
    "\n",
    "plt.show()\n"
   ]
  },
  {
   "cell_type": "code",
   "execution_count": null,
   "metadata": {},
   "outputs": [],
   "source": []
  }
 ],
 "metadata": {
  "kernelspec": {
   "display_name": "Python 3",
   "language": "python",
   "name": "python3"
  },
  "language_info": {
   "codemirror_mode": {
    "name": "ipython",
    "version": 3
   },
   "file_extension": ".py",
   "mimetype": "text/x-python",
   "name": "python",
   "nbconvert_exporter": "python",
   "pygments_lexer": "ipython3",
   "version": "3.6.4"
  }
 },
 "nbformat": 4,
 "nbformat_minor": 2
}
